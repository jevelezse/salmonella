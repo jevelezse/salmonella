{
 "cells": [
  {
   "cell_type": "markdown",
   "metadata": {},
   "source": [
    "2 Data parsing"
   ]
  },
  {
   "cell_type": "code",
   "execution_count": 1,
   "metadata": {},
   "outputs": [],
   "source": [
    "import pandas as pd"
   ]
  },
  {
   "cell_type": "code",
   "execution_count": 2,
   "metadata": {},
   "outputs": [],
   "source": [
    "ariba = pd.read_csv(r'~/Documents/agrosavia/coding_assessment_exercise-master/exercise_2/ariba_amr_output.csv')\n",
    "ncbi = pd.read_csv(r'~/Documents/agrosavia/coding_assessment_exercise-master/exercise_2/ncbi_acquired_genes_metadata.csv')"
   ]
  },
  {
   "cell_type": "code",
   "execution_count": 3,
   "metadata": {
    "jupyter": {
     "source_hidden": true
    }
   },
   "outputs": [
    {
     "data": {
      "text/html": [
       "<div>\n",
       "<style scoped>\n",
       "    .dataframe tbody tr th:only-of-type {\n",
       "        vertical-align: middle;\n",
       "    }\n",
       "\n",
       "    .dataframe tbody tr th {\n",
       "        vertical-align: top;\n",
       "    }\n",
       "\n",
       "    .dataframe thead th {\n",
       "        text-align: right;\n",
       "    }\n",
       "</style>\n",
       "<table border=\"1\" class=\"dataframe\">\n",
       "  <thead>\n",
       "    <tr style=\"text-align: right;\">\n",
       "      <th></th>\n",
       "      <th>name</th>\n",
       "      <th>A7J11_01233+.assembled</th>\n",
       "      <th>A7J11_01233+.ref_seq</th>\n",
       "      <th>A7J11_01233+.pct_id</th>\n",
       "      <th>A7J11_01233+.ctg_cov</th>\n",
       "      <th>aac_3__II-.assembled</th>\n",
       "      <th>aac_3__II-.ref_seq</th>\n",
       "      <th>aac_3__II-.pct_id</th>\n",
       "      <th>aac_3__II-.ctg_cov</th>\n",
       "      <th>aac_6___Ib+.assembled</th>\n",
       "      <th>...</th>\n",
       "      <th>tet_A_.pct_id</th>\n",
       "      <th>tet_A_.ctg_cov</th>\n",
       "      <th>tet_B_.assembled</th>\n",
       "      <th>tet_B_.ref_seq</th>\n",
       "      <th>tet_B_.pct_id</th>\n",
       "      <th>tet_B_.ctg_cov</th>\n",
       "      <th>tet_D_.assembled</th>\n",
       "      <th>tet_D_.ref_seq</th>\n",
       "      <th>tet_D_.pct_id</th>\n",
       "      <th>tet_D_.ctg_cov</th>\n",
       "    </tr>\n",
       "  </thead>\n",
       "  <tbody>\n",
       "    <tr>\n",
       "      <th>0</th>\n",
       "      <td>G18250057</td>\n",
       "      <td>partial</td>\n",
       "      <td>A7J11_01233.NG_047213.1</td>\n",
       "      <td>99.31</td>\n",
       "      <td>22.9</td>\n",
       "      <td>no</td>\n",
       "      <td>NaN</td>\n",
       "      <td>NaN</td>\n",
       "      <td>NaN</td>\n",
       "      <td>yes</td>\n",
       "      <td>...</td>\n",
       "      <td>NaN</td>\n",
       "      <td>NaN</td>\n",
       "      <td>yes</td>\n",
       "      <td>tet_B_.NG_048163.1</td>\n",
       "      <td>100.0</td>\n",
       "      <td>41.5</td>\n",
       "      <td>no</td>\n",
       "      <td>NaN</td>\n",
       "      <td>NaN</td>\n",
       "      <td>NaN</td>\n",
       "    </tr>\n",
       "    <tr>\n",
       "      <th>1</th>\n",
       "      <td>G18250058</td>\n",
       "      <td>no</td>\n",
       "      <td>NaN</td>\n",
       "      <td>NaN</td>\n",
       "      <td>NaN</td>\n",
       "      <td>no</td>\n",
       "      <td>NaN</td>\n",
       "      <td>NaN</td>\n",
       "      <td>NaN</td>\n",
       "      <td>no</td>\n",
       "      <td>...</td>\n",
       "      <td>100.0</td>\n",
       "      <td>32.2</td>\n",
       "      <td>no</td>\n",
       "      <td>NaN</td>\n",
       "      <td>NaN</td>\n",
       "      <td>NaN</td>\n",
       "      <td>no</td>\n",
       "      <td>NaN</td>\n",
       "      <td>NaN</td>\n",
       "      <td>NaN</td>\n",
       "    </tr>\n",
       "    <tr>\n",
       "      <th>2</th>\n",
       "      <td>G18250059</td>\n",
       "      <td>no</td>\n",
       "      <td>NaN</td>\n",
       "      <td>NaN</td>\n",
       "      <td>NaN</td>\n",
       "      <td>yes</td>\n",
       "      <td>aac_3__IIa.NG_047244.1</td>\n",
       "      <td>99.77</td>\n",
       "      <td>22.6</td>\n",
       "      <td>no</td>\n",
       "      <td>...</td>\n",
       "      <td>NaN</td>\n",
       "      <td>NaN</td>\n",
       "      <td>no</td>\n",
       "      <td>NaN</td>\n",
       "      <td>NaN</td>\n",
       "      <td>NaN</td>\n",
       "      <td>no</td>\n",
       "      <td>NaN</td>\n",
       "      <td>NaN</td>\n",
       "      <td>NaN</td>\n",
       "    </tr>\n",
       "  </tbody>\n",
       "</table>\n",
       "<p>3 rows × 201 columns</p>\n",
       "</div>"
      ],
      "text/plain": [
       "        name A7J11_01233+.assembled     A7J11_01233+.ref_seq  \\\n",
       "0  G18250057                partial  A7J11_01233.NG_047213.1   \n",
       "1  G18250058                     no                      NaN   \n",
       "2  G18250059                     no                      NaN   \n",
       "\n",
       "   A7J11_01233+.pct_id  A7J11_01233+.ctg_cov aac_3__II-.assembled  \\\n",
       "0                99.31                  22.9                   no   \n",
       "1                  NaN                   NaN                   no   \n",
       "2                  NaN                   NaN                  yes   \n",
       "\n",
       "       aac_3__II-.ref_seq  aac_3__II-.pct_id  aac_3__II-.ctg_cov  \\\n",
       "0                     NaN                NaN                 NaN   \n",
       "1                     NaN                NaN                 NaN   \n",
       "2  aac_3__IIa.NG_047244.1              99.77                22.6   \n",
       "\n",
       "  aac_6___Ib+.assembled  ... tet_A_.pct_id  tet_A_.ctg_cov  tet_B_.assembled  \\\n",
       "0                   yes  ...           NaN             NaN               yes   \n",
       "1                    no  ...         100.0            32.2                no   \n",
       "2                    no  ...           NaN             NaN                no   \n",
       "\n",
       "       tet_B_.ref_seq tet_B_.pct_id  tet_B_.ctg_cov  tet_D_.assembled  \\\n",
       "0  tet_B_.NG_048163.1         100.0            41.5                no   \n",
       "1                 NaN           NaN             NaN                no   \n",
       "2                 NaN           NaN             NaN                no   \n",
       "\n",
       "  tet_D_.ref_seq tet_D_.pct_id  tet_D_.ctg_cov  \n",
       "0            NaN           NaN             NaN  \n",
       "1            NaN           NaN             NaN  \n",
       "2            NaN           NaN             NaN  \n",
       "\n",
       "[3 rows x 201 columns]"
      ]
     },
     "execution_count": 3,
     "metadata": {},
     "output_type": "execute_result"
    }
   ],
   "source": [
    "ariba.head(3)"
   ]
  },
  {
   "cell_type": "code",
   "execution_count": 4,
   "metadata": {
    "jupyter": {
     "source_hidden": true
    }
   },
   "outputs": [
    {
     "data": {
      "text/html": [
       "<div>\n",
       "<style scoped>\n",
       "    .dataframe tbody tr th:only-of-type {\n",
       "        vertical-align: middle;\n",
       "    }\n",
       "\n",
       "    .dataframe tbody tr th {\n",
       "        vertical-align: top;\n",
       "    }\n",
       "\n",
       "    .dataframe thead th {\n",
       "        text-align: right;\n",
       "    }\n",
       "</style>\n",
       "<table border=\"1\" class=\"dataframe\">\n",
       "  <thead>\n",
       "    <tr style=\"text-align: right;\">\n",
       "      <th></th>\n",
       "      <th>allele</th>\n",
       "      <th>gene_family</th>\n",
       "      <th>refseq_nucleotide_accession</th>\n",
       "      <th>subclass</th>\n",
       "    </tr>\n",
       "  </thead>\n",
       "  <tbody>\n",
       "    <tr>\n",
       "      <th>0</th>\n",
       "      <td>NaN</td>\n",
       "      <td>aac(2')-IIa</td>\n",
       "      <td>NG_047225.1</td>\n",
       "      <td>KASUGAMYCIN</td>\n",
       "    </tr>\n",
       "    <tr>\n",
       "      <th>1</th>\n",
       "      <td>NaN</td>\n",
       "      <td>aac(2')-IIb</td>\n",
       "      <td>NG_055672.1</td>\n",
       "      <td>KASUGAMYCIN</td>\n",
       "    </tr>\n",
       "    <tr>\n",
       "      <th>2</th>\n",
       "      <td>NaN</td>\n",
       "      <td>aac(2')-Ia</td>\n",
       "      <td>NG_047226.1</td>\n",
       "      <td>GENTAMICIN/TOBRAMCYIN</td>\n",
       "    </tr>\n",
       "    <tr>\n",
       "      <th>3</th>\n",
       "      <td>NaN</td>\n",
       "      <td>aac(2')-Ib</td>\n",
       "      <td>NG_047227.1</td>\n",
       "      <td>GENTAMICIN/TOBRAMCYIN</td>\n",
       "    </tr>\n",
       "    <tr>\n",
       "      <th>4</th>\n",
       "      <td>NaN</td>\n",
       "      <td>aac(2')-Ic</td>\n",
       "      <td>NG_047229.1</td>\n",
       "      <td>GENTAMICIN/TOBRAMCYIN</td>\n",
       "    </tr>\n",
       "  </tbody>\n",
       "</table>\n",
       "</div>"
      ],
      "text/plain": [
       "  allele  gene_family refseq_nucleotide_accession               subclass\n",
       "0    NaN  aac(2')-IIa                 NG_047225.1            KASUGAMYCIN\n",
       "1    NaN  aac(2')-IIb                 NG_055672.1            KASUGAMYCIN\n",
       "2    NaN   aac(2')-Ia                 NG_047226.1  GENTAMICIN/TOBRAMCYIN\n",
       "3    NaN   aac(2')-Ib                 NG_047227.1  GENTAMICIN/TOBRAMCYIN\n",
       "4    NaN   aac(2')-Ic                 NG_047229.1  GENTAMICIN/TOBRAMCYIN"
      ]
     },
     "execution_count": 4,
     "metadata": {},
     "output_type": "execute_result"
    }
   ],
   "source": [
    "ncbi.head()"
   ]
  },
  {
   "cell_type": "code",
   "execution_count": 5,
   "metadata": {
    "jupyter": {
     "source_hidden": true
    }
   },
   "outputs": [],
   "source": [
    "resistance = ['CEPHALOSPORIN','CARBAPENEM']"
   ]
  },
  {
   "cell_type": "code",
   "execution_count": 6,
   "metadata": {
    "jupyter": {
     "source_hidden": true
    }
   },
   "outputs": [],
   "source": [
    "ncbi_filtered = ncbi[ncbi['subclass'].str.contains('|'.join(resistance))]"
   ]
  },
  {
   "cell_type": "code",
   "execution_count": 7,
   "metadata": {
    "jupyter": {
     "source_hidden": true
    }
   },
   "outputs": [],
   "source": [
    "#gene_family = list(ncbi_filtered['gene_family'].str.replace('-','_'))"
   ]
  },
  {
   "cell_type": "code",
   "execution_count": 8,
   "metadata": {
    "jupyter": {
     "source_hidden": true
    }
   },
   "outputs": [],
   "source": [
    "gene_family = ncbi_filtered['gene_family'].tolist()"
   ]
  },
  {
   "cell_type": "code",
   "execution_count": 9,
   "metadata": {
    "jupyter": {
     "source_hidden": true
    }
   },
   "outputs": [],
   "source": [
    "refseq = ncbi_filtered['refseq_nucleotide_accession'].tolist()"
   ]
  },
  {
   "cell_type": "code",
   "execution_count": 10,
   "metadata": {
    "jupyter": {
     "source_hidden": true
    }
   },
   "outputs": [
    {
     "data": {
      "text/plain": [
       "['bla2',\n",
       " 'bla2',\n",
       " 'bla2',\n",
       " 'bla2',\n",
       " 'bla2',\n",
       " 'bla2',\n",
       " 'blaACC',\n",
       " 'blaACC',\n",
       " 'blaACC',\n",
       " 'blaACC']"
      ]
     },
     "execution_count": 10,
     "metadata": {},
     "output_type": "execute_result"
    }
   ],
   "source": [
    "gene_family[0:10]"
   ]
  },
  {
   "cell_type": "code",
   "execution_count": 11,
   "metadata": {
    "jupyter": {
     "source_hidden": true
    }
   },
   "outputs": [
    {
     "data": {
      "text/plain": [
       "['blaNDM',\n",
       " 'ampC',\n",
       " 'blaB3PEDO',\n",
       " 'blaCIA',\n",
       " 'blaTUS',\n",
       " 'blaCAU',\n",
       " 'blaGES',\n",
       " 'blaTEM',\n",
       " 'blaLRG',\n",
       " 'blaCPS']"
      ]
     },
     "execution_count": 11,
     "metadata": {},
     "output_type": "execute_result"
    }
   ],
   "source": [
    "gene_filtred = list(set(gene_family))\n",
    "gene_filtred[0:10]"
   ]
  },
  {
   "cell_type": "code",
   "execution_count": 12,
   "metadata": {
    "jupyter": {
     "source_hidden": true
    }
   },
   "outputs": [],
   "source": [
    "x = list(ariba)"
   ]
  },
  {
   "cell_type": "code",
   "execution_count": 13,
   "metadata": {},
   "outputs": [],
   "source": [
    "list_columns = [i for i in x if any(i for j in gene_filtred if str(j) in i)]"
   ]
  },
  {
   "cell_type": "code",
   "execution_count": 14,
   "metadata": {},
   "outputs": [],
   "source": [
    "list_columns.append('name')"
   ]
  },
  {
   "cell_type": "code",
   "execution_count": 15,
   "metadata": {},
   "outputs": [],
   "source": [
    "ariba1 = ariba[list_columns]"
   ]
  },
  {
   "cell_type": "code",
   "execution_count": 16,
   "metadata": {},
   "outputs": [],
   "source": [
    "ariba2 = ariba1.filter(regex=r'(assembled|ctg_cov|name|ref_seq)')"
   ]
  },
  {
   "cell_type": "code",
   "execution_count": 17,
   "metadata": {},
   "outputs": [
    {
     "data": {
      "text/html": [
       "<div>\n",
       "<style scoped>\n",
       "    .dataframe tbody tr th:only-of-type {\n",
       "        vertical-align: middle;\n",
       "    }\n",
       "\n",
       "    .dataframe tbody tr th {\n",
       "        vertical-align: top;\n",
       "    }\n",
       "\n",
       "    .dataframe thead th {\n",
       "        text-align: right;\n",
       "    }\n",
       "</style>\n",
       "<table border=\"1\" class=\"dataframe\">\n",
       "  <thead>\n",
       "    <tr style=\"text-align: right;\">\n",
       "      <th></th>\n",
       "      <th>name</th>\n",
       "      <th>A7J11_01233+.assembled</th>\n",
       "      <th>A7J11_01233+.ref_seq</th>\n",
       "      <th>A7J11_01233+.pct_id</th>\n",
       "      <th>A7J11_01233+.ctg_cov</th>\n",
       "      <th>aac_3__II-.assembled</th>\n",
       "      <th>aac_3__II-.ref_seq</th>\n",
       "      <th>aac_3__II-.pct_id</th>\n",
       "      <th>aac_3__II-.ctg_cov</th>\n",
       "      <th>aac_6___Ib+.assembled</th>\n",
       "      <th>...</th>\n",
       "      <th>tet_A_.pct_id</th>\n",
       "      <th>tet_A_.ctg_cov</th>\n",
       "      <th>tet_B_.assembled</th>\n",
       "      <th>tet_B_.ref_seq</th>\n",
       "      <th>tet_B_.pct_id</th>\n",
       "      <th>tet_B_.ctg_cov</th>\n",
       "      <th>tet_D_.assembled</th>\n",
       "      <th>tet_D_.ref_seq</th>\n",
       "      <th>tet_D_.pct_id</th>\n",
       "      <th>tet_D_.ctg_cov</th>\n",
       "    </tr>\n",
       "  </thead>\n",
       "  <tbody>\n",
       "    <tr>\n",
       "      <th>0</th>\n",
       "      <td>G18250057</td>\n",
       "      <td>partial</td>\n",
       "      <td>A7J11_01233.NG_047213.1</td>\n",
       "      <td>99.31</td>\n",
       "      <td>22.9</td>\n",
       "      <td>no</td>\n",
       "      <td>NaN</td>\n",
       "      <td>NaN</td>\n",
       "      <td>NaN</td>\n",
       "      <td>yes</td>\n",
       "      <td>...</td>\n",
       "      <td>NaN</td>\n",
       "      <td>NaN</td>\n",
       "      <td>yes</td>\n",
       "      <td>tet_B_.NG_048163.1</td>\n",
       "      <td>100.0</td>\n",
       "      <td>41.5</td>\n",
       "      <td>no</td>\n",
       "      <td>NaN</td>\n",
       "      <td>NaN</td>\n",
       "      <td>NaN</td>\n",
       "    </tr>\n",
       "    <tr>\n",
       "      <th>1</th>\n",
       "      <td>G18250058</td>\n",
       "      <td>no</td>\n",
       "      <td>NaN</td>\n",
       "      <td>NaN</td>\n",
       "      <td>NaN</td>\n",
       "      <td>no</td>\n",
       "      <td>NaN</td>\n",
       "      <td>NaN</td>\n",
       "      <td>NaN</td>\n",
       "      <td>no</td>\n",
       "      <td>...</td>\n",
       "      <td>100.0</td>\n",
       "      <td>32.2</td>\n",
       "      <td>no</td>\n",
       "      <td>NaN</td>\n",
       "      <td>NaN</td>\n",
       "      <td>NaN</td>\n",
       "      <td>no</td>\n",
       "      <td>NaN</td>\n",
       "      <td>NaN</td>\n",
       "      <td>NaN</td>\n",
       "    </tr>\n",
       "  </tbody>\n",
       "</table>\n",
       "<p>2 rows × 201 columns</p>\n",
       "</div>"
      ],
      "text/plain": [
       "        name A7J11_01233+.assembled     A7J11_01233+.ref_seq  \\\n",
       "0  G18250057                partial  A7J11_01233.NG_047213.1   \n",
       "1  G18250058                     no                      NaN   \n",
       "\n",
       "   A7J11_01233+.pct_id  A7J11_01233+.ctg_cov aac_3__II-.assembled  \\\n",
       "0                99.31                  22.9                   no   \n",
       "1                  NaN                   NaN                   no   \n",
       "\n",
       "  aac_3__II-.ref_seq  aac_3__II-.pct_id  aac_3__II-.ctg_cov  \\\n",
       "0                NaN                NaN                 NaN   \n",
       "1                NaN                NaN                 NaN   \n",
       "\n",
       "  aac_6___Ib+.assembled  ... tet_A_.pct_id  tet_A_.ctg_cov  tet_B_.assembled  \\\n",
       "0                   yes  ...           NaN             NaN               yes   \n",
       "1                    no  ...         100.0            32.2                no   \n",
       "\n",
       "       tet_B_.ref_seq tet_B_.pct_id  tet_B_.ctg_cov  tet_D_.assembled  \\\n",
       "0  tet_B_.NG_048163.1         100.0            41.5                no   \n",
       "1                 NaN           NaN             NaN                no   \n",
       "\n",
       "  tet_D_.ref_seq tet_D_.pct_id  tet_D_.ctg_cov  \n",
       "0            NaN           NaN             NaN  \n",
       "1            NaN           NaN             NaN  \n",
       "\n",
       "[2 rows x 201 columns]"
      ]
     },
     "execution_count": 17,
     "metadata": {},
     "output_type": "execute_result"
    }
   ],
   "source": [
    "ariba.head(2)"
   ]
  },
  {
   "cell_type": "code",
   "execution_count": 18,
   "metadata": {},
   "outputs": [],
   "source": [
    "ariba2 = ariba2.replace('yes_nonunique','yes')"
   ]
  },
  {
   "cell_type": "code",
   "execution_count": 19,
   "metadata": {},
   "outputs": [],
   "source": [
    "x1 = list(ariba2)"
   ]
  },
  {
   "cell_type": "code",
   "execution_count": 20,
   "metadata": {},
   "outputs": [
    {
     "data": {
      "text/plain": [
       "['blaAFM_1.assembled',\n",
       " 'blaAFM_1.ref_seq',\n",
       " 'blaAFM_1.ctg_cov',\n",
       " 'blaEC-.assembled',\n",
       " 'blaEC-.ref_seq',\n",
       " 'blaEC-.ctg_cov',\n",
       " 'blaNDM_-.assembled',\n",
       " 'blaNDM_-.ref_seq',\n",
       " 'blaNDM_-.ctg_cov',\n",
       " 'blaOXA_-_10.assembled',\n",
       " 'blaOXA_-_10.ref_seq',\n",
       " 'blaOXA_-_10.ctg_cov',\n",
       " 'blaOXA_-_31.assembled',\n",
       " 'blaOXA_-_31.ref_seq',\n",
       " 'blaOXA_-_31.ctg_cov',\n",
       " 'blaOXA_-_35.assembled',\n",
       " 'blaOXA_-_35.ref_seq',\n",
       " 'blaOXA_-_35.ctg_cov',\n",
       " 'blaTEM_-.assembled',\n",
       " 'blaTEM_-.ref_seq',\n",
       " 'blaTEM_-.ctg_cov',\n",
       " 'name']"
      ]
     },
     "execution_count": 20,
     "metadata": {},
     "output_type": "execute_result"
    }
   ],
   "source": [
    "list(ariba2)"
   ]
  },
  {
   "cell_type": "code",
   "execution_count": 21,
   "metadata": {},
   "outputs": [],
   "source": [
    "blaAFM_1 = x1[0:3]\n",
    "blaAFM_1.append('name')"
   ]
  },
  {
   "cell_type": "code",
   "execution_count": 22,
   "metadata": {},
   "outputs": [
    {
     "data": {
      "text/html": [
       "<div>\n",
       "<style scoped>\n",
       "    .dataframe tbody tr th:only-of-type {\n",
       "        vertical-align: middle;\n",
       "    }\n",
       "\n",
       "    .dataframe tbody tr th {\n",
       "        vertical-align: top;\n",
       "    }\n",
       "\n",
       "    .dataframe thead th {\n",
       "        text-align: right;\n",
       "    }\n",
       "</style>\n",
       "<table border=\"1\" class=\"dataframe\">\n",
       "  <thead>\n",
       "    <tr style=\"text-align: right;\">\n",
       "      <th></th>\n",
       "      <th>blaAFM_1.assembled</th>\n",
       "      <th>blaAFM_1.ref_seq</th>\n",
       "      <th>blaAFM_1.ctg_cov</th>\n",
       "      <th>name</th>\n",
       "    </tr>\n",
       "  </thead>\n",
       "  <tbody>\n",
       "    <tr>\n",
       "      <th>0</th>\n",
       "      <td>no</td>\n",
       "      <td>NaN</td>\n",
       "      <td>NaN</td>\n",
       "      <td>G18250057</td>\n",
       "    </tr>\n",
       "    <tr>\n",
       "      <th>1</th>\n",
       "      <td>no</td>\n",
       "      <td>NaN</td>\n",
       "      <td>NaN</td>\n",
       "      <td>G18250058</td>\n",
       "    </tr>\n",
       "  </tbody>\n",
       "</table>\n",
       "</div>"
      ],
      "text/plain": [
       "  blaAFM_1.assembled blaAFM_1.ref_seq  blaAFM_1.ctg_cov       name\n",
       "0                 no              NaN               NaN  G18250057\n",
       "1                 no              NaN               NaN  G18250058"
      ]
     },
     "execution_count": 22,
     "metadata": {},
     "output_type": "execute_result"
    }
   ],
   "source": [
    "blaAFM_1 = ariba2[blaAFM_1]\n",
    "blaAFM_1.head(2)"
   ]
  },
  {
   "cell_type": "code",
   "execution_count": 23,
   "metadata": {},
   "outputs": [
    {
     "data": {
      "text/html": [
       "<div>\n",
       "<style scoped>\n",
       "    .dataframe tbody tr th:only-of-type {\n",
       "        vertical-align: middle;\n",
       "    }\n",
       "\n",
       "    .dataframe tbody tr th {\n",
       "        vertical-align: top;\n",
       "    }\n",
       "\n",
       "    .dataframe thead th {\n",
       "        text-align: right;\n",
       "    }\n",
       "</style>\n",
       "<table border=\"1\" class=\"dataframe\">\n",
       "  <thead>\n",
       "    <tr style=\"text-align: right;\">\n",
       "      <th></th>\n",
       "      <th>blaAFM_1.assembled</th>\n",
       "      <th>blaAFM_1.ref_seq</th>\n",
       "      <th>blaAFM_1.ctg_cov</th>\n",
       "      <th>name</th>\n",
       "    </tr>\n",
       "  </thead>\n",
       "  <tbody>\n",
       "  </tbody>\n",
       "</table>\n",
       "</div>"
      ],
      "text/plain": [
       "Empty DataFrame\n",
       "Columns: [blaAFM_1.assembled, blaAFM_1.ref_seq, blaAFM_1.ctg_cov, name]\n",
       "Index: []"
      ]
     },
     "execution_count": 23,
     "metadata": {},
     "output_type": "execute_result"
    }
   ],
   "source": [
    "blaAFM_1 = blaAFM_1[(blaAFM_1['blaAFM_1.ctg_cov'] > 10.0) & (blaAFM_1['blaAFM_1.assembled'] == 'yes')]\n",
    "blaAFM_1"
   ]
  },
  {
   "cell_type": "code",
   "execution_count": 24,
   "metadata": {},
   "outputs": [],
   "source": [
    "sample_blaAFM_1 = blaAFM_1['name'].tolist()"
   ]
  },
  {
   "cell_type": "code",
   "execution_count": 25,
   "metadata": {},
   "outputs": [],
   "source": [
    "blaEC = x1[3:6]\n",
    "blaEC.append('name')"
   ]
  },
  {
   "cell_type": "code",
   "execution_count": 26,
   "metadata": {},
   "outputs": [
    {
     "data": {
      "text/html": [
       "<div>\n",
       "<style scoped>\n",
       "    .dataframe tbody tr th:only-of-type {\n",
       "        vertical-align: middle;\n",
       "    }\n",
       "\n",
       "    .dataframe tbody tr th {\n",
       "        vertical-align: top;\n",
       "    }\n",
       "\n",
       "    .dataframe thead th {\n",
       "        text-align: right;\n",
       "    }\n",
       "</style>\n",
       "<table border=\"1\" class=\"dataframe\">\n",
       "  <thead>\n",
       "    <tr style=\"text-align: right;\">\n",
       "      <th></th>\n",
       "      <th>blaEC-.assembled</th>\n",
       "      <th>blaEC-.ref_seq</th>\n",
       "      <th>blaEC-.ctg_cov</th>\n",
       "      <th>name</th>\n",
       "    </tr>\n",
       "  </thead>\n",
       "  <tbody>\n",
       "    <tr>\n",
       "      <th>0</th>\n",
       "      <td>yes</td>\n",
       "      <td>blaEC_15.NG_049081.1</td>\n",
       "      <td>23.5</td>\n",
       "      <td>G18250057</td>\n",
       "    </tr>\n",
       "    <tr>\n",
       "      <th>1</th>\n",
       "      <td>yes</td>\n",
       "      <td>blaEC_5.NG_049085.1</td>\n",
       "      <td>28.6</td>\n",
       "      <td>G18250058</td>\n",
       "    </tr>\n",
       "  </tbody>\n",
       "</table>\n",
       "</div>"
      ],
      "text/plain": [
       "  blaEC-.assembled        blaEC-.ref_seq  blaEC-.ctg_cov       name\n",
       "0              yes  blaEC_15.NG_049081.1            23.5  G18250057\n",
       "1              yes   blaEC_5.NG_049085.1            28.6  G18250058"
      ]
     },
     "execution_count": 26,
     "metadata": {},
     "output_type": "execute_result"
    }
   ],
   "source": [
    "blaEC = ariba2[blaEC]\n",
    "blaEC.head(2)"
   ]
  },
  {
   "cell_type": "code",
   "execution_count": 27,
   "metadata": {},
   "outputs": [
    {
     "data": {
      "text/html": [
       "<div>\n",
       "<style scoped>\n",
       "    .dataframe tbody tr th:only-of-type {\n",
       "        vertical-align: middle;\n",
       "    }\n",
       "\n",
       "    .dataframe tbody tr th {\n",
       "        vertical-align: top;\n",
       "    }\n",
       "\n",
       "    .dataframe thead th {\n",
       "        text-align: right;\n",
       "    }\n",
       "</style>\n",
       "<table border=\"1\" class=\"dataframe\">\n",
       "  <thead>\n",
       "    <tr style=\"text-align: right;\">\n",
       "      <th></th>\n",
       "      <th>blaEC-.assembled</th>\n",
       "      <th>blaEC-.ref_seq</th>\n",
       "      <th>blaEC-.ctg_cov</th>\n",
       "      <th>name</th>\n",
       "    </tr>\n",
       "  </thead>\n",
       "  <tbody>\n",
       "    <tr>\n",
       "      <th>0</th>\n",
       "      <td>yes</td>\n",
       "      <td>blaEC_15.NG_049081.1</td>\n",
       "      <td>23.5</td>\n",
       "      <td>G18250057</td>\n",
       "    </tr>\n",
       "    <tr>\n",
       "      <th>1</th>\n",
       "      <td>yes</td>\n",
       "      <td>blaEC_5.NG_049085.1</td>\n",
       "      <td>28.6</td>\n",
       "      <td>G18250058</td>\n",
       "    </tr>\n",
       "  </tbody>\n",
       "</table>\n",
       "</div>"
      ],
      "text/plain": [
       "  blaEC-.assembled        blaEC-.ref_seq  blaEC-.ctg_cov       name\n",
       "0              yes  blaEC_15.NG_049081.1            23.5  G18250057\n",
       "1              yes   blaEC_5.NG_049085.1            28.6  G18250058"
      ]
     },
     "execution_count": 27,
     "metadata": {},
     "output_type": "execute_result"
    }
   ],
   "source": [
    "blaEC = blaEC[(blaEC['blaEC-.ctg_cov'] > 10.0) & (blaEC['blaEC-.assembled'] == 'yes')]\n",
    "blaEC.head(2)"
   ]
  },
  {
   "cell_type": "code",
   "execution_count": 28,
   "metadata": {},
   "outputs": [],
   "source": [
    "sample_blaEC = blaEC['name'].tolist()"
   ]
  },
  {
   "cell_type": "code",
   "execution_count": 29,
   "metadata": {},
   "outputs": [],
   "source": [
    "blaNDM = x1[6:9]\n",
    "blaNDM.append('name')"
   ]
  },
  {
   "cell_type": "code",
   "execution_count": 30,
   "metadata": {},
   "outputs": [
    {
     "data": {
      "text/html": [
       "<div>\n",
       "<style scoped>\n",
       "    .dataframe tbody tr th:only-of-type {\n",
       "        vertical-align: middle;\n",
       "    }\n",
       "\n",
       "    .dataframe tbody tr th {\n",
       "        vertical-align: top;\n",
       "    }\n",
       "\n",
       "    .dataframe thead th {\n",
       "        text-align: right;\n",
       "    }\n",
       "</style>\n",
       "<table border=\"1\" class=\"dataframe\">\n",
       "  <thead>\n",
       "    <tr style=\"text-align: right;\">\n",
       "      <th></th>\n",
       "      <th>blaNDM_-.assembled</th>\n",
       "      <th>blaNDM_-.ref_seq</th>\n",
       "      <th>blaNDM_-.ctg_cov</th>\n",
       "      <th>name</th>\n",
       "    </tr>\n",
       "  </thead>\n",
       "  <tbody>\n",
       "    <tr>\n",
       "      <th>0</th>\n",
       "      <td>no</td>\n",
       "      <td>NaN</td>\n",
       "      <td>NaN</td>\n",
       "      <td>G18250057</td>\n",
       "    </tr>\n",
       "    <tr>\n",
       "      <th>1</th>\n",
       "      <td>no</td>\n",
       "      <td>NaN</td>\n",
       "      <td>NaN</td>\n",
       "      <td>G18250058</td>\n",
       "    </tr>\n",
       "  </tbody>\n",
       "</table>\n",
       "</div>"
      ],
      "text/plain": [
       "  blaNDM_-.assembled blaNDM_-.ref_seq  blaNDM_-.ctg_cov       name\n",
       "0                 no              NaN               NaN  G18250057\n",
       "1                 no              NaN               NaN  G18250058"
      ]
     },
     "execution_count": 30,
     "metadata": {},
     "output_type": "execute_result"
    }
   ],
   "source": [
    "blaNDM = ariba2[blaNDM]\n",
    "blaNDM.head(2)"
   ]
  },
  {
   "cell_type": "code",
   "execution_count": 31,
   "metadata": {},
   "outputs": [
    {
     "data": {
      "text/html": [
       "<div>\n",
       "<style scoped>\n",
       "    .dataframe tbody tr th:only-of-type {\n",
       "        vertical-align: middle;\n",
       "    }\n",
       "\n",
       "    .dataframe tbody tr th {\n",
       "        vertical-align: top;\n",
       "    }\n",
       "\n",
       "    .dataframe thead th {\n",
       "        text-align: right;\n",
       "    }\n",
       "</style>\n",
       "<table border=\"1\" class=\"dataframe\">\n",
       "  <thead>\n",
       "    <tr style=\"text-align: right;\">\n",
       "      <th></th>\n",
       "      <th>blaNDM_-.assembled</th>\n",
       "      <th>blaNDM_-.ref_seq</th>\n",
       "      <th>blaNDM_-.ctg_cov</th>\n",
       "      <th>name</th>\n",
       "    </tr>\n",
       "  </thead>\n",
       "  <tbody>\n",
       "    <tr>\n",
       "      <th>4</th>\n",
       "      <td>yes</td>\n",
       "      <td>blaNDM_5.NG_049337.1</td>\n",
       "      <td>25.2</td>\n",
       "      <td>G18250065</td>\n",
       "    </tr>\n",
       "    <tr>\n",
       "      <th>10</th>\n",
       "      <td>yes</td>\n",
       "      <td>blaNDM_5.NG_049337.1</td>\n",
       "      <td>54.2</td>\n",
       "      <td>G18250077</td>\n",
       "    </tr>\n",
       "  </tbody>\n",
       "</table>\n",
       "</div>"
      ],
      "text/plain": [
       "   blaNDM_-.assembled      blaNDM_-.ref_seq  blaNDM_-.ctg_cov       name\n",
       "4                 yes  blaNDM_5.NG_049337.1              25.2  G18250065\n",
       "10                yes  blaNDM_5.NG_049337.1              54.2  G18250077"
      ]
     },
     "execution_count": 31,
     "metadata": {},
     "output_type": "execute_result"
    }
   ],
   "source": [
    "blaNDM = blaNDM[(blaNDM['blaNDM_-.ctg_cov'] > 10.0) & (blaNDM['blaNDM_-.assembled'] == 'yes')]\n",
    "blaNDM.head(2)"
   ]
  },
  {
   "cell_type": "code",
   "execution_count": 32,
   "metadata": {},
   "outputs": [],
   "source": [
    "sample_blaNDM = blaNDM['name'].tolist()"
   ]
  },
  {
   "cell_type": "code",
   "execution_count": 33,
   "metadata": {},
   "outputs": [],
   "source": [
    "blaOXA_10 = x1[9:12]\n",
    "blaOXA_10.append('name')"
   ]
  },
  {
   "cell_type": "code",
   "execution_count": 34,
   "metadata": {},
   "outputs": [
    {
     "data": {
      "text/html": [
       "<div>\n",
       "<style scoped>\n",
       "    .dataframe tbody tr th:only-of-type {\n",
       "        vertical-align: middle;\n",
       "    }\n",
       "\n",
       "    .dataframe tbody tr th {\n",
       "        vertical-align: top;\n",
       "    }\n",
       "\n",
       "    .dataframe thead th {\n",
       "        text-align: right;\n",
       "    }\n",
       "</style>\n",
       "<table border=\"1\" class=\"dataframe\">\n",
       "  <thead>\n",
       "    <tr style=\"text-align: right;\">\n",
       "      <th></th>\n",
       "      <th>blaOXA_-_10.assembled</th>\n",
       "      <th>blaOXA_-_10.ref_seq</th>\n",
       "      <th>blaOXA_-_10.ctg_cov</th>\n",
       "      <th>name</th>\n",
       "    </tr>\n",
       "  </thead>\n",
       "  <tbody>\n",
       "    <tr>\n",
       "      <th>0</th>\n",
       "      <td>yes</td>\n",
       "      <td>blaOXA_1.NG_049392.1</td>\n",
       "      <td>39.5</td>\n",
       "      <td>G18250057</td>\n",
       "    </tr>\n",
       "    <tr>\n",
       "      <th>1</th>\n",
       "      <td>no</td>\n",
       "      <td>NaN</td>\n",
       "      <td>NaN</td>\n",
       "      <td>G18250058</td>\n",
       "    </tr>\n",
       "  </tbody>\n",
       "</table>\n",
       "</div>"
      ],
      "text/plain": [
       "  blaOXA_-_10.assembled   blaOXA_-_10.ref_seq  blaOXA_-_10.ctg_cov       name\n",
       "0                   yes  blaOXA_1.NG_049392.1                 39.5  G18250057\n",
       "1                    no                   NaN                  NaN  G18250058"
      ]
     },
     "execution_count": 34,
     "metadata": {},
     "output_type": "execute_result"
    }
   ],
   "source": [
    "blaOXA_10 = ariba2[blaOXA_10]\n",
    "blaOXA_10.head(2)"
   ]
  },
  {
   "cell_type": "code",
   "execution_count": 35,
   "metadata": {},
   "outputs": [
    {
     "data": {
      "text/html": [
       "<div>\n",
       "<style scoped>\n",
       "    .dataframe tbody tr th:only-of-type {\n",
       "        vertical-align: middle;\n",
       "    }\n",
       "\n",
       "    .dataframe tbody tr th {\n",
       "        vertical-align: top;\n",
       "    }\n",
       "\n",
       "    .dataframe thead th {\n",
       "        text-align: right;\n",
       "    }\n",
       "</style>\n",
       "<table border=\"1\" class=\"dataframe\">\n",
       "  <thead>\n",
       "    <tr style=\"text-align: right;\">\n",
       "      <th></th>\n",
       "      <th>blaOXA_-_10.assembled</th>\n",
       "      <th>blaOXA_-_10.ref_seq</th>\n",
       "      <th>blaOXA_-_10.ctg_cov</th>\n",
       "      <th>name</th>\n",
       "    </tr>\n",
       "  </thead>\n",
       "  <tbody>\n",
       "    <tr>\n",
       "      <th>0</th>\n",
       "      <td>yes</td>\n",
       "      <td>blaOXA_1.NG_049392.1</td>\n",
       "      <td>39.5</td>\n",
       "      <td>G18250057</td>\n",
       "    </tr>\n",
       "    <tr>\n",
       "      <th>3</th>\n",
       "      <td>yes</td>\n",
       "      <td>blaOXA_1.NG_049392.1</td>\n",
       "      <td>42.6</td>\n",
       "      <td>G18250060</td>\n",
       "    </tr>\n",
       "  </tbody>\n",
       "</table>\n",
       "</div>"
      ],
      "text/plain": [
       "  blaOXA_-_10.assembled   blaOXA_-_10.ref_seq  blaOXA_-_10.ctg_cov       name\n",
       "0                   yes  blaOXA_1.NG_049392.1                 39.5  G18250057\n",
       "3                   yes  blaOXA_1.NG_049392.1                 42.6  G18250060"
      ]
     },
     "execution_count": 35,
     "metadata": {},
     "output_type": "execute_result"
    }
   ],
   "source": [
    "blaOXA_10  = blaOXA_10[(blaOXA_10 ['blaOXA_-_10.ctg_cov'] > 10.0) & (blaOXA_10['blaOXA_-_10.assembled'] == 'yes')]\n",
    "blaOXA_10.head(2)"
   ]
  },
  {
   "cell_type": "code",
   "execution_count": 36,
   "metadata": {},
   "outputs": [],
   "source": [
    "sample_blaOXA_10 = blaOXA_10['name'].tolist()"
   ]
  },
  {
   "cell_type": "code",
   "execution_count": 37,
   "metadata": {},
   "outputs": [],
   "source": [
    "blaOXA_31 = x1[12:15]\n",
    "blaOXA_31.append('name')"
   ]
  },
  {
   "cell_type": "code",
   "execution_count": 38,
   "metadata": {},
   "outputs": [
    {
     "data": {
      "text/html": [
       "<div>\n",
       "<style scoped>\n",
       "    .dataframe tbody tr th:only-of-type {\n",
       "        vertical-align: middle;\n",
       "    }\n",
       "\n",
       "    .dataframe tbody tr th {\n",
       "        vertical-align: top;\n",
       "    }\n",
       "\n",
       "    .dataframe thead th {\n",
       "        text-align: right;\n",
       "    }\n",
       "</style>\n",
       "<table border=\"1\" class=\"dataframe\">\n",
       "  <thead>\n",
       "    <tr style=\"text-align: right;\">\n",
       "      <th></th>\n",
       "      <th>blaOXA_-_31.assembled</th>\n",
       "      <th>blaOXA_-_31.ref_seq</th>\n",
       "      <th>blaOXA_-_31.ctg_cov</th>\n",
       "      <th>name</th>\n",
       "    </tr>\n",
       "  </thead>\n",
       "  <tbody>\n",
       "    <tr>\n",
       "      <th>0</th>\n",
       "      <td>no</td>\n",
       "      <td>NaN</td>\n",
       "      <td>NaN</td>\n",
       "      <td>G18250057</td>\n",
       "    </tr>\n",
       "    <tr>\n",
       "      <th>1</th>\n",
       "      <td>no</td>\n",
       "      <td>NaN</td>\n",
       "      <td>NaN</td>\n",
       "      <td>G18250058</td>\n",
       "    </tr>\n",
       "  </tbody>\n",
       "</table>\n",
       "</div>"
      ],
      "text/plain": [
       "  blaOXA_-_31.assembled blaOXA_-_31.ref_seq  blaOXA_-_31.ctg_cov       name\n",
       "0                    no                 NaN                  NaN  G18250057\n",
       "1                    no                 NaN                  NaN  G18250058"
      ]
     },
     "execution_count": 38,
     "metadata": {},
     "output_type": "execute_result"
    }
   ],
   "source": [
    "blaOXA_31 = ariba2[blaOXA_31]\n",
    "blaOXA_31.head(2)"
   ]
  },
  {
   "cell_type": "code",
   "execution_count": 39,
   "metadata": {},
   "outputs": [
    {
     "data": {
      "text/html": [
       "<div>\n",
       "<style scoped>\n",
       "    .dataframe tbody tr th:only-of-type {\n",
       "        vertical-align: middle;\n",
       "    }\n",
       "\n",
       "    .dataframe tbody tr th {\n",
       "        vertical-align: top;\n",
       "    }\n",
       "\n",
       "    .dataframe thead th {\n",
       "        text-align: right;\n",
       "    }\n",
       "</style>\n",
       "<table border=\"1\" class=\"dataframe\">\n",
       "  <thead>\n",
       "    <tr style=\"text-align: right;\">\n",
       "      <th></th>\n",
       "      <th>blaOXA_-_31.assembled</th>\n",
       "      <th>blaOXA_-_31.ref_seq</th>\n",
       "      <th>blaOXA_-_31.ctg_cov</th>\n",
       "      <th>name</th>\n",
       "    </tr>\n",
       "  </thead>\n",
       "  <tbody>\n",
       "    <tr>\n",
       "      <th>56</th>\n",
       "      <td>yes</td>\n",
       "      <td>blaOXA_10.NG_049393.1</td>\n",
       "      <td>24.8</td>\n",
       "      <td>G18252049</td>\n",
       "    </tr>\n",
       "  </tbody>\n",
       "</table>\n",
       "</div>"
      ],
      "text/plain": [
       "   blaOXA_-_31.assembled    blaOXA_-_31.ref_seq  blaOXA_-_31.ctg_cov  \\\n",
       "56                   yes  blaOXA_10.NG_049393.1                 24.8   \n",
       "\n",
       "         name  \n",
       "56  G18252049  "
      ]
     },
     "execution_count": 39,
     "metadata": {},
     "output_type": "execute_result"
    }
   ],
   "source": [
    "blaOXA_31 = blaOXA_31[(blaOXA_31['blaOXA_-_31.ctg_cov'] > 10.0) & (blaOXA_31['blaOXA_-_31.assembled'] == 'yes')]\n",
    "blaOXA_31.head(2)"
   ]
  },
  {
   "cell_type": "code",
   "execution_count": 40,
   "metadata": {},
   "outputs": [],
   "source": [
    "sample_blaOXA_31 = blaOXA_31['name'].tolist()"
   ]
  },
  {
   "cell_type": "code",
   "execution_count": 41,
   "metadata": {},
   "outputs": [],
   "source": [
    "blaOXA_35 = x1[15:18]\n",
    "blaOXA_35.append('name')"
   ]
  },
  {
   "cell_type": "code",
   "execution_count": 42,
   "metadata": {},
   "outputs": [
    {
     "data": {
      "text/html": [
       "<div>\n",
       "<style scoped>\n",
       "    .dataframe tbody tr th:only-of-type {\n",
       "        vertical-align: middle;\n",
       "    }\n",
       "\n",
       "    .dataframe tbody tr th {\n",
       "        vertical-align: top;\n",
       "    }\n",
       "\n",
       "    .dataframe thead th {\n",
       "        text-align: right;\n",
       "    }\n",
       "</style>\n",
       "<table border=\"1\" class=\"dataframe\">\n",
       "  <thead>\n",
       "    <tr style=\"text-align: right;\">\n",
       "      <th></th>\n",
       "      <th>blaOXA_-_35.assembled</th>\n",
       "      <th>blaOXA_-_35.ref_seq</th>\n",
       "      <th>blaOXA_-_35.ctg_cov</th>\n",
       "      <th>name</th>\n",
       "    </tr>\n",
       "  </thead>\n",
       "  <tbody>\n",
       "    <tr>\n",
       "      <th>0</th>\n",
       "      <td>no</td>\n",
       "      <td>NaN</td>\n",
       "      <td>NaN</td>\n",
       "      <td>G18250057</td>\n",
       "    </tr>\n",
       "    <tr>\n",
       "      <th>1</th>\n",
       "      <td>no</td>\n",
       "      <td>NaN</td>\n",
       "      <td>NaN</td>\n",
       "      <td>G18250058</td>\n",
       "    </tr>\n",
       "  </tbody>\n",
       "</table>\n",
       "</div>"
      ],
      "text/plain": [
       "  blaOXA_-_35.assembled blaOXA_-_35.ref_seq  blaOXA_-_35.ctg_cov       name\n",
       "0                    no                 NaN                  NaN  G18250057\n",
       "1                    no                 NaN                  NaN  G18250058"
      ]
     },
     "execution_count": 42,
     "metadata": {},
     "output_type": "execute_result"
    }
   ],
   "source": [
    "blaOXA_35 = ariba2[blaOXA_35]\n",
    "blaOXA_35.head(2)"
   ]
  },
  {
   "cell_type": "code",
   "execution_count": 43,
   "metadata": {},
   "outputs": [
    {
     "data": {
      "text/html": [
       "<div>\n",
       "<style scoped>\n",
       "    .dataframe tbody tr th:only-of-type {\n",
       "        vertical-align: middle;\n",
       "    }\n",
       "\n",
       "    .dataframe tbody tr th {\n",
       "        vertical-align: top;\n",
       "    }\n",
       "\n",
       "    .dataframe thead th {\n",
       "        text-align: right;\n",
       "    }\n",
       "</style>\n",
       "<table border=\"1\" class=\"dataframe\">\n",
       "  <thead>\n",
       "    <tr style=\"text-align: right;\">\n",
       "      <th></th>\n",
       "      <th>blaOXA_-_35.assembled</th>\n",
       "      <th>blaOXA_-_35.ref_seq</th>\n",
       "      <th>blaOXA_-_35.ctg_cov</th>\n",
       "      <th>name</th>\n",
       "    </tr>\n",
       "  </thead>\n",
       "  <tbody>\n",
       "    <tr>\n",
       "      <th>6</th>\n",
       "      <td>yes</td>\n",
       "      <td>blaOXA_181.NG_049482.1</td>\n",
       "      <td>52.6</td>\n",
       "      <td>G18250069</td>\n",
       "    </tr>\n",
       "    <tr>\n",
       "      <th>7</th>\n",
       "      <td>yes</td>\n",
       "      <td>blaOXA_181.NG_049482.1</td>\n",
       "      <td>32.3</td>\n",
       "      <td>G18250070</td>\n",
       "    </tr>\n",
       "  </tbody>\n",
       "</table>\n",
       "</div>"
      ],
      "text/plain": [
       "  blaOXA_-_35.assembled     blaOXA_-_35.ref_seq  blaOXA_-_35.ctg_cov  \\\n",
       "6                   yes  blaOXA_181.NG_049482.1                 52.6   \n",
       "7                   yes  blaOXA_181.NG_049482.1                 32.3   \n",
       "\n",
       "        name  \n",
       "6  G18250069  \n",
       "7  G18250070  "
      ]
     },
     "execution_count": 43,
     "metadata": {},
     "output_type": "execute_result"
    }
   ],
   "source": [
    "blaOXA_35 = blaOXA_35[(blaOXA_35['blaOXA_-_35.ctg_cov'] > 10.0) & (blaOXA_35['blaOXA_-_35.assembled'] == 'yes')]\n",
    "blaOXA_35.head(2)"
   ]
  },
  {
   "cell_type": "code",
   "execution_count": 44,
   "metadata": {},
   "outputs": [],
   "source": [
    "sample_blaOXA_35 = blaOXA_35['name'].tolist()"
   ]
  },
  {
   "cell_type": "code",
   "execution_count": 45,
   "metadata": {},
   "outputs": [],
   "source": [
    "blaTEM = x1[18:-1]\n",
    "blaTEM.append('name')"
   ]
  },
  {
   "cell_type": "code",
   "execution_count": 46,
   "metadata": {},
   "outputs": [
    {
     "data": {
      "text/html": [
       "<div>\n",
       "<style scoped>\n",
       "    .dataframe tbody tr th:only-of-type {\n",
       "        vertical-align: middle;\n",
       "    }\n",
       "\n",
       "    .dataframe tbody tr th {\n",
       "        vertical-align: top;\n",
       "    }\n",
       "\n",
       "    .dataframe thead th {\n",
       "        text-align: right;\n",
       "    }\n",
       "</style>\n",
       "<table border=\"1\" class=\"dataframe\">\n",
       "  <thead>\n",
       "    <tr style=\"text-align: right;\">\n",
       "      <th></th>\n",
       "      <th>blaTEM_-.assembled</th>\n",
       "      <th>blaTEM_-.ref_seq</th>\n",
       "      <th>blaTEM_-.ctg_cov</th>\n",
       "      <th>name</th>\n",
       "    </tr>\n",
       "  </thead>\n",
       "  <tbody>\n",
       "    <tr>\n",
       "      <th>0</th>\n",
       "      <td>yes</td>\n",
       "      <td>blaTEM_35.NG_050264.1</td>\n",
       "      <td>38.8</td>\n",
       "      <td>G18250057</td>\n",
       "    </tr>\n",
       "    <tr>\n",
       "      <th>1</th>\n",
       "      <td>no</td>\n",
       "      <td>NaN</td>\n",
       "      <td>NaN</td>\n",
       "      <td>G18250058</td>\n",
       "    </tr>\n",
       "  </tbody>\n",
       "</table>\n",
       "</div>"
      ],
      "text/plain": [
       "  blaTEM_-.assembled       blaTEM_-.ref_seq  blaTEM_-.ctg_cov       name\n",
       "0                yes  blaTEM_35.NG_050264.1              38.8  G18250057\n",
       "1                 no                    NaN               NaN  G18250058"
      ]
     },
     "execution_count": 46,
     "metadata": {},
     "output_type": "execute_result"
    }
   ],
   "source": [
    "blaTEM = ariba2[blaTEM]\n",
    "blaTEM.head(2)"
   ]
  },
  {
   "cell_type": "code",
   "execution_count": 47,
   "metadata": {},
   "outputs": [
    {
     "data": {
      "text/html": [
       "<div>\n",
       "<style scoped>\n",
       "    .dataframe tbody tr th:only-of-type {\n",
       "        vertical-align: middle;\n",
       "    }\n",
       "\n",
       "    .dataframe tbody tr th {\n",
       "        vertical-align: top;\n",
       "    }\n",
       "\n",
       "    .dataframe thead th {\n",
       "        text-align: right;\n",
       "    }\n",
       "</style>\n",
       "<table border=\"1\" class=\"dataframe\">\n",
       "  <thead>\n",
       "    <tr style=\"text-align: right;\">\n",
       "      <th></th>\n",
       "      <th>blaTEM_-.assembled</th>\n",
       "      <th>blaTEM_-.ref_seq</th>\n",
       "      <th>blaTEM_-.ctg_cov</th>\n",
       "      <th>name</th>\n",
       "    </tr>\n",
       "  </thead>\n",
       "  <tbody>\n",
       "    <tr>\n",
       "      <th>0</th>\n",
       "      <td>yes</td>\n",
       "      <td>blaTEM_35.NG_050264.1</td>\n",
       "      <td>38.8</td>\n",
       "      <td>G18250057</td>\n",
       "    </tr>\n",
       "    <tr>\n",
       "      <th>4</th>\n",
       "      <td>yes</td>\n",
       "      <td>blaTEM_1.NG_050145.1</td>\n",
       "      <td>62.0</td>\n",
       "      <td>G18250065</td>\n",
       "    </tr>\n",
       "  </tbody>\n",
       "</table>\n",
       "</div>"
      ],
      "text/plain": [
       "  blaTEM_-.assembled       blaTEM_-.ref_seq  blaTEM_-.ctg_cov       name\n",
       "0                yes  blaTEM_35.NG_050264.1              38.8  G18250057\n",
       "4                yes   blaTEM_1.NG_050145.1              62.0  G18250065"
      ]
     },
     "execution_count": 47,
     "metadata": {},
     "output_type": "execute_result"
    }
   ],
   "source": [
    "blaTEM= blaTEM[(blaTEM['blaTEM_-.ctg_cov'] > 10.0) & (blaTEM['blaTEM_-.assembled'] == 'yes')]\n",
    "blaTEM.head(2)"
   ]
  },
  {
   "cell_type": "code",
   "execution_count": 48,
   "metadata": {},
   "outputs": [],
   "source": [
    "sample_blaTEM = blaTEM['name'].tolist()"
   ]
  },
  {
   "cell_type": "code",
   "execution_count": 49,
   "metadata": {},
   "outputs": [],
   "source": [
    "sample_blaOXA = sample_blaOXA_10 + sample_blaOXA_31 + sample_blaOXA_35"
   ]
  },
  {
   "cell_type": "code",
   "execution_count": 50,
   "metadata": {},
   "outputs": [],
   "source": [
    "total_samples = sample_blaAFM_1 + sample_blaEC + sample_blaNDM + sample_blaOXA + sample_blaTEM"
   ]
  },
  {
   "cell_type": "code",
   "execution_count": 51,
   "metadata": {},
   "outputs": [
    {
     "data": {
      "text/plain": [
       "201"
      ]
     },
     "execution_count": 51,
     "metadata": {},
     "output_type": "execute_result"
    }
   ],
   "source": [
    "len(total_samples)"
   ]
  },
  {
   "cell_type": "code",
   "execution_count": 52,
   "metadata": {},
   "outputs": [],
   "source": [
    "samples_drop = list(set(total_samples))"
   ]
  },
  {
   "cell_type": "code",
   "execution_count": 53,
   "metadata": {},
   "outputs": [
    {
     "data": {
      "text/plain": [
       "81"
      ]
     },
     "execution_count": 53,
     "metadata": {},
     "output_type": "execute_result"
    }
   ],
   "source": [
    "len(samples_drop)"
   ]
  },
  {
   "cell_type": "code",
   "execution_count": 54,
   "metadata": {},
   "outputs": [
    {
     "name": "stdout",
     "output_type": "stream",
     "text": [
      "Total samples with cephalosporin or carbapenem resistance: 81\n"
     ]
    }
   ],
   "source": [
    "print('Total samples with cephalosporin or carbapenem resistance:', len(samples_drop))"
   ]
  },
  {
   "cell_type": "code",
   "execution_count": 55,
   "metadata": {},
   "outputs": [],
   "source": [
    "samples = pd.DataFrame({'blaAFM_1': pd.Series(sample_blaAFM_1,dtype=str), 'blaEC': pd.Series(sample_blaEC,dtype=str), 'blaNDM': pd.Series(sample_blaNDM,dtype=str), 'blaOXA': pd.Series(sample_blaOXA,dtype=str),\n",
    "                        'blaTEM': pd.Series(sample_blaTEM,dtype=str)})"
   ]
  },
  {
   "cell_type": "code",
   "execution_count": 60,
   "metadata": {},
   "outputs": [
    {
     "name": "stdout",
     "output_type": "stream",
     "text": [
      "Total samples with cephalosporin or carbapenem resistance:\n",
      "   blaAFM_1      blaEC     blaNDM     blaOXA     blaTEM\n",
      "0       NaN  G18250057  G18250065  G18250057  G18250057\n",
      "1       NaN  G18250058  G18250077  G18250060  G18250065\n",
      "2       NaN  G18250059  G18250099  G18250065  G18250069\n",
      "3       NaN  G18250060  G18250128  G18250068  G18250070\n",
      "4       NaN  G18250065  G18250157  G18250081  G18250077\n",
      "..      ...        ...        ...        ...        ...\n",
      "76      NaN  G18253316        NaN        NaN        NaN\n",
      "77      NaN  G18253321        NaN        NaN        NaN\n",
      "78      NaN  G18253323        NaN        NaN        NaN\n",
      "79      NaN  G18253332        NaN        NaN        NaN\n",
      "80      NaN  G18253335        NaN        NaN        NaN\n",
      "\n",
      "[81 rows x 5 columns]\n"
     ]
    }
   ],
   "source": [
    "print ('Total samples with cephalosporin or carbapenem resistance:')\n",
    "print(samples)"
   ]
  },
  {
   "cell_type": "code",
   "execution_count": 57,
   "metadata": {},
   "outputs": [],
   "source": [
    "samples.to_csv('samples.csv')"
   ]
  }
 ],
 "metadata": {
  "kernelspec": {
   "display_name": "Python 3",
   "language": "python",
   "name": "python3"
  },
  "language_info": {
   "codemirror_mode": {
    "name": "ipython",
    "version": 3
   },
   "file_extension": ".py",
   "mimetype": "text/x-python",
   "name": "python",
   "nbconvert_exporter": "python",
   "pygments_lexer": "ipython3",
   "version": "3.8.5"
  }
 },
 "nbformat": 4,
 "nbformat_minor": 4
}
